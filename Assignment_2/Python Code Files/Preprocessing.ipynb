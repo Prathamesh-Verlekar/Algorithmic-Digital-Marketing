{
  "nbformat": 4,
  "nbformat_minor": 0,
  "metadata": {
    "colab": {
      "name": "Preprocessing.ipynb",
      "provenance": [],
      "collapsed_sections": []
    },
    "kernelspec": {
      "name": "python3",
      "display_name": "Python 3"
    }
  },
  "cells": [
    {
      "cell_type": "code",
      "metadata": {
        "id": "qmO6o4udIjoA",
        "colab_type": "code",
        "colab": {
          "base_uri": "https://localhost:8080/",
          "height": 34
        },
        "outputId": "35b8677b-c0c3-4cdc-e98a-1a32a90bff76"
      },
      "source": [
        "try:\n",
        "  import os\n",
        "  import io\n",
        "  import bson\n",
        "  from tqdm import tqdm\n",
        "  import matplotlib.pyplot as plt\n",
        "  from skimage.io import imread\n",
        "  import multiprocessing as mp\n",
        "  from glob import iglob\n",
        "  import pandas as pd\n",
        "  print(\"all modules loaded \")\n",
        "except Exceptions as e:\n",
        "  print(\"Error : {} \".format(e))"
      ],
      "execution_count": 1,
      "outputs": [
        {
          "output_type": "stream",
          "text": [
            "all modules loaded \n"
          ],
          "name": "stdout"
        }
      ]
    },
    {
      "cell_type": "code",
      "metadata": {
        "id": "cE12YffgI08X",
        "colab_type": "code",
        "colab": {}
      },
      "source": [
        " import tensorflow as tf"
      ],
      "execution_count": 2,
      "outputs": []
    },
    {
      "cell_type": "code",
      "metadata": {
        "id": "p-yYclfyLOy0",
        "colab_type": "code",
        "colab": {}
      },
      "source": [
        "data = bson.decode_file_iter(open(\"/content/drive/My Drive/Algorithmic Digital Marketing/Assignment 2/Dataset/train.bson\", 'rb'))"
      ],
      "execution_count": null,
      "outputs": []
    },
    {
      "cell_type": "code",
      "metadata": {
        "id": "MW7X7IipLWoD",
        "colab_type": "code",
        "colab": {}
      },
      "source": [
        "counter = 0\n",
        "my_data = []\n",
        "for line in data:\n",
        "   my_data.append(line)\n",
        "   counter = counter + 1\n",
        "   if counter == 10000:  \n",
        "     break"
      ],
      "execution_count": null,
      "outputs": []
    },
    {
      "cell_type": "code",
      "metadata": {
        "id": "ntNfMZ9RLjVb",
        "colab_type": "code",
        "colab": {}
      },
      "source": [
        "len(my_data)\n",
        "#!pip install pandas\n",
        "import pandas as pd\n",
        "df = pd.DataFrame(data=my_data)\n",
        "df"
      ],
      "execution_count": null,
      "outputs": []
    },
    {
      "cell_type": "code",
      "metadata": {
        "id": "xaEIppG4L_w_",
        "colab_type": "code",
        "colab": {}
      },
      "source": [
        "images_df = df[[\"imgs\"]]\n",
        "images_df"
      ],
      "execution_count": null,
      "outputs": []
    },
    {
      "cell_type": "code",
      "metadata": {
        "id": "PURRXMsmMAg8",
        "colab_type": "code",
        "colab": {}
      },
      "source": [
        "import ast \n",
        "import os \n",
        "import sys\n",
        "import pandas as pd\n",
        "import pathlib"
      ],
      "execution_count": null,
      "outputs": []
    },
    {
      "cell_type": "code",
      "metadata": {
        "id": "lpeCNsUFMHUn",
        "colab_type": "code",
        "colab": {}
      },
      "source": [
        "df = pd.read_csv(\"/content/drive/My Drive/Algorithms and Digital Marketing/final_images.csv\")"
      ],
      "execution_count": null,
      "outputs": []
    },
    {
      "cell_type": "code",
      "metadata": {
        "id": "72fGz_0rMIyY",
        "colab_type": "code",
        "colab": {}
      },
      "source": [
        "try:\n",
        "    os.mkdir(\"/content/drive/My Drive/HelloImages\")\n",
        "\n",
        "\n",
        "except Exception as e:\n",
        "    pass\n",
        "\n",
        "for c,image in enumerate(df.iterrows()):\n",
        "    try:\n",
        "        tem = image\n",
        "        FileName = tem[1]['category_id']\n",
        "        path = os.getcwd()\n",
        "        FileName = \"/content/drive/My Drive/HelloImages/{}_{}.jpg\".format(FileName, c)\n",
        "        FileName = os.path.join(path,FileName)\n",
        "        tem = tem[1]['imgs']\n",
        "        tem = ast.literal_eval(tem)[0]['picture']\n",
        "        with open(FileName, \"wb\") as f:\n",
        "            f.write(tem)\n",
        "    except Exception as e:\n",
        "        pass"
      ],
      "execution_count": null,
      "outputs": []
    },
    {
      "cell_type": "code",
      "metadata": {
        "id": "o-dZbWMlMNLx",
        "colab_type": "code",
        "colab": {}
      },
      "source": [
        "os.listdir()"
      ],
      "execution_count": null,
      "outputs": []
    },
    {
      "cell_type": "code",
      "metadata": {
        "id": "a0m2dqhBMVWk",
        "colab_type": "code",
        "colab": {}
      },
      "source": [
        "os.listdir(\"/content/drive/My Drive/HelloImages\")"
      ],
      "execution_count": null,
      "outputs": []
    }
  ]
}